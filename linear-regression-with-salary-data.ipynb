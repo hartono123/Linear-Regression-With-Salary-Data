{
 "cells": [
  {
   "cell_type": "code",
   "execution_count": 1,
   "id": "f3c5d07e",
   "metadata": {
    "execution": {
     "iopub.execute_input": "2022-08-14T12:33:59.845219Z",
     "iopub.status.busy": "2022-08-14T12:33:59.844775Z",
     "iopub.status.idle": "2022-08-14T12:34:00.995667Z",
     "shell.execute_reply": "2022-08-14T12:34:00.994122Z"
    },
    "id": "OarUVz9GVi5O",
    "papermill": {
     "duration": 1.164093,
     "end_time": "2022-08-14T12:34:00.998806",
     "exception": false,
     "start_time": "2022-08-14T12:33:59.834713",
     "status": "completed"
    },
    "tags": []
   },
   "outputs": [],
   "source": [
    "import pandas as pd\n",
    "import seaborn as sns\n",
    "import matplotlib.pyplot as plt\n",
    "import numpy as np\n",
    "\n",
    "%matplotlib inline"
   ]
  },
  {
   "cell_type": "code",
   "execution_count": 2,
   "id": "4a6f8d47",
   "metadata": {
    "execution": {
     "iopub.execute_input": "2022-08-14T12:34:01.016503Z",
     "iopub.status.busy": "2022-08-14T12:34:01.015633Z",
     "iopub.status.idle": "2022-08-14T12:34:01.059369Z",
     "shell.execute_reply": "2022-08-14T12:34:01.057830Z"
    },
    "id": "_TiYn37XXfUA",
    "outputId": "a866e683-58c4-4a12-9c1d-feb557c7a72a",
    "papermill": {
     "duration": 0.059642,
     "end_time": "2022-08-14T12:34:01.066271",
     "exception": false,
     "start_time": "2022-08-14T12:34:01.006629",
     "status": "completed"
    },
    "tags": []
   },
   "outputs": [
    {
     "data": {
      "text/html": [
       "<div>\n",
       "<style scoped>\n",
       "    .dataframe tbody tr th:only-of-type {\n",
       "        vertical-align: middle;\n",
       "    }\n",
       "\n",
       "    .dataframe tbody tr th {\n",
       "        vertical-align: top;\n",
       "    }\n",
       "\n",
       "    .dataframe thead th {\n",
       "        text-align: right;\n",
       "    }\n",
       "</style>\n",
       "<table border=\"1\" class=\"dataframe\">\n",
       "  <thead>\n",
       "    <tr style=\"text-align: right;\">\n",
       "      <th></th>\n",
       "      <th>Kode</th>\n",
       "      <th>Nama Karyawan</th>\n",
       "      <th>Jabatan</th>\n",
       "      <th>Status Karyawan</th>\n",
       "      <th>Mulai Kerja</th>\n",
       "      <th>Masa Kerja</th>\n",
       "      <th>Gaji Pokok</th>\n",
       "      <th>Tunj. Jabatan</th>\n",
       "      <th>Tunj. Makan</th>\n",
       "      <th>Tunj. Anak</th>\n",
       "      <th>Tunj. Kes</th>\n",
       "      <th>Tunj. Khusus</th>\n",
       "      <th>Tot. Gaji</th>\n",
       "      <th>Tot. Gaji Setahun</th>\n",
       "    </tr>\n",
       "  </thead>\n",
       "  <tbody>\n",
       "    <tr>\n",
       "      <th>0</th>\n",
       "      <td>KT-KA0</td>\n",
       "      <td>Kinara Maulidya Ar Rohman</td>\n",
       "      <td>KEPALA KANTOR</td>\n",
       "      <td>TETAP</td>\n",
       "      <td>41640</td>\n",
       "      <td>6</td>\n",
       "      <td>2500000</td>\n",
       "      <td>600000</td>\n",
       "      <td>300000</td>\n",
       "      <td>0</td>\n",
       "      <td>75000</td>\n",
       "      <td>200000</td>\n",
       "      <td>3675000</td>\n",
       "      <td>44100000</td>\n",
       "    </tr>\n",
       "    <tr>\n",
       "      <th>1</th>\n",
       "      <td>KT-TL3</td>\n",
       "      <td>Adelia Jaya Diningrat</td>\n",
       "      <td>TELLER</td>\n",
       "      <td>TETAP</td>\n",
       "      <td>42036</td>\n",
       "      <td>5</td>\n",
       "      <td>1500000</td>\n",
       "      <td>100000</td>\n",
       "      <td>300000</td>\n",
       "      <td>100000</td>\n",
       "      <td>150000</td>\n",
       "      <td>200000</td>\n",
       "      <td>2350000</td>\n",
       "      <td>28200000</td>\n",
       "    </tr>\n",
       "    <tr>\n",
       "      <th>2</th>\n",
       "      <td>KT-IT0</td>\n",
       "      <td>Aldrian At Tafiqur Rohman</td>\n",
       "      <td>INFORMASI TEKNOLOGI</td>\n",
       "      <td>TETAP</td>\n",
       "      <td>42370</td>\n",
       "      <td>4</td>\n",
       "      <td>2100000</td>\n",
       "      <td>400000</td>\n",
       "      <td>300000</td>\n",
       "      <td>0</td>\n",
       "      <td>75000</td>\n",
       "      <td>200000</td>\n",
       "      <td>3075000</td>\n",
       "      <td>36900000</td>\n",
       "    </tr>\n",
       "    <tr>\n",
       "      <th>3</th>\n",
       "      <td>KT-AO1</td>\n",
       "      <td>Andrean At Tafiqur Rohman</td>\n",
       "      <td>ACCOUNTING OFFICER</td>\n",
       "      <td>TETAP</td>\n",
       "      <td>42370</td>\n",
       "      <td>4</td>\n",
       "      <td>2200000</td>\n",
       "      <td>200000</td>\n",
       "      <td>300000</td>\n",
       "      <td>50000</td>\n",
       "      <td>100000</td>\n",
       "      <td>200000</td>\n",
       "      <td>3050000</td>\n",
       "      <td>36600000</td>\n",
       "    </tr>\n",
       "    <tr>\n",
       "      <th>4</th>\n",
       "      <td>KK-SC2</td>\n",
       "      <td>Wawan Agandi</td>\n",
       "      <td>SECURITY</td>\n",
       "      <td>KONTRAK</td>\n",
       "      <td>42627</td>\n",
       "      <td>4</td>\n",
       "      <td>1500000</td>\n",
       "      <td>50000</td>\n",
       "      <td>300000</td>\n",
       "      <td>75000</td>\n",
       "      <td>120000</td>\n",
       "      <td>200000</td>\n",
       "      <td>2245000</td>\n",
       "      <td>26940000</td>\n",
       "    </tr>\n",
       "  </tbody>\n",
       "</table>\n",
       "</div>"
      ],
      "text/plain": [
       "    Kode               Nama Karyawan              Jabatan Status Karyawan  \\\n",
       "0  KT-KA0  Kinara Maulidya Ar Rohman        KEPALA KANTOR           TETAP   \n",
       "1  KT-TL3      Adelia Jaya Diningrat               TELLER           TETAP   \n",
       "2  KT-IT0  Aldrian At Tafiqur Rohman  INFORMASI TEKNOLOGI           TETAP   \n",
       "3  KT-AO1  Andrean At Tafiqur Rohman   ACCOUNTING OFFICER           TETAP   \n",
       "4  KK-SC2              Wawan Agandi              SECURITY         KONTRAK   \n",
       "\n",
       "   Mulai Kerja  Masa Kerja  Gaji Pokok  Tunj. Jabatan  Tunj. Makan  \\\n",
       "0        41640           6     2500000         600000       300000   \n",
       "1        42036           5     1500000         100000       300000   \n",
       "2        42370           4     2100000         400000       300000   \n",
       "3        42370           4     2200000         200000       300000   \n",
       "4        42627           4     1500000          50000       300000   \n",
       "\n",
       "   Tunj. Anak  Tunj. Kes  Tunj. Khusus  Tot. Gaji  Tot. Gaji Setahun  \n",
       "0           0      75000        200000    3675000           44100000  \n",
       "1      100000     150000        200000    2350000           28200000  \n",
       "2           0      75000        200000    3075000           36900000  \n",
       "3       50000     100000        200000    3050000           36600000  \n",
       "4       75000     120000        200000    2245000           26940000  "
      ]
     },
     "execution_count": 2,
     "metadata": {},
     "output_type": "execute_result"
    }
   ],
   "source": [
    "df = pd.read_csv('../input/salary/data.csv')\n",
    "df.head()"
   ]
  },
  {
   "cell_type": "code",
   "execution_count": 3,
   "id": "220c6560",
   "metadata": {
    "execution": {
     "iopub.execute_input": "2022-08-14T12:34:01.090574Z",
     "iopub.status.busy": "2022-08-14T12:34:01.089929Z",
     "iopub.status.idle": "2022-08-14T12:34:01.105990Z",
     "shell.execute_reply": "2022-08-14T12:34:01.104392Z"
    },
    "id": "kmIqRcsKXlPd",
    "outputId": "297aadd6-2848-40d2-c3a6-30b18d983163",
    "papermill": {
     "duration": 0.031954,
     "end_time": "2022-08-14T12:34:01.108716",
     "exception": false,
     "start_time": "2022-08-14T12:34:01.076762",
     "status": "completed"
    },
    "tags": []
   },
   "outputs": [
    {
     "data": {
      "text/plain": [
       "Kode                 0\n",
       "Nama Karyawan        0\n",
       "Jabatan              0\n",
       "Status Karyawan      0\n",
       "Mulai Kerja          0\n",
       "Masa Kerja           0\n",
       "Gaji Pokok           0\n",
       "Tunj. Jabatan        0\n",
       "Tunj. Makan          0\n",
       "Tunj. Anak           0\n",
       "Tunj. Kes            0\n",
       "Tunj. Khusus         0\n",
       "Tot. Gaji            0\n",
       "Tot. Gaji Setahun    0\n",
       "dtype: int64"
      ]
     },
     "execution_count": 3,
     "metadata": {},
     "output_type": "execute_result"
    }
   ],
   "source": [
    "df.isnull().sum()"
   ]
  },
  {
   "cell_type": "code",
   "execution_count": 4,
   "id": "8243d966",
   "metadata": {
    "execution": {
     "iopub.execute_input": "2022-08-14T12:34:01.128153Z",
     "iopub.status.busy": "2022-08-14T12:34:01.127243Z",
     "iopub.status.idle": "2022-08-14T12:34:01.135439Z",
     "shell.execute_reply": "2022-08-14T12:34:01.134169Z"
    },
    "id": "ssNJZxY_ZC-S",
    "outputId": "8e3035a9-57c7-43d8-e2a6-1fd3564294d4",
    "papermill": {
     "duration": 0.020943,
     "end_time": "2022-08-14T12:34:01.139009",
     "exception": false,
     "start_time": "2022-08-14T12:34:01.118066",
     "status": "completed"
    },
    "tags": []
   },
   "outputs": [
    {
     "data": {
      "text/plain": [
       "Kode                 object\n",
       "Nama Karyawan        object\n",
       "Jabatan              object\n",
       "Status Karyawan      object\n",
       "Mulai Kerja           int64\n",
       "Masa Kerja            int64\n",
       "Gaji Pokok            int64\n",
       "Tunj. Jabatan         int64\n",
       "Tunj. Makan           int64\n",
       "Tunj. Anak            int64\n",
       "Tunj. Kes             int64\n",
       "Tunj. Khusus          int64\n",
       "Tot. Gaji             int64\n",
       "Tot. Gaji Setahun     int64\n",
       "dtype: object"
      ]
     },
     "execution_count": 4,
     "metadata": {},
     "output_type": "execute_result"
    }
   ],
   "source": [
    "df.dtypes"
   ]
  },
  {
   "cell_type": "code",
   "execution_count": 5,
   "id": "3d658c40",
   "metadata": {
    "execution": {
     "iopub.execute_input": "2022-08-14T12:34:01.161738Z",
     "iopub.status.busy": "2022-08-14T12:34:01.160857Z",
     "iopub.status.idle": "2022-08-14T12:34:01.338284Z",
     "shell.execute_reply": "2022-08-14T12:34:01.337092Z"
    },
    "id": "kZkSsRsOZF0a",
    "outputId": "248af4d7-e5df-4044-b28f-bd51274ceeb9",
    "papermill": {
     "duration": 0.18974,
     "end_time": "2022-08-14T12:34:01.340740",
     "exception": false,
     "start_time": "2022-08-14T12:34:01.151000",
     "status": "completed"
    },
    "tags": []
   },
   "outputs": [
    {
     "data": {
      "image/png": "[encoded data removed]",
      "text/plain": [
       "<Figure size 432x288 with 1 Axes>"
      ]
     },
     "metadata": {
      "needs_background": "light"
     },
     "output_type": "display_data"
    }
   ],
   "source": [
    "sns.countplot(x=df['Status Karyawan'])\n",
    "plt.show()"
   ]
  },
  {
   "cell_type": "code",
   "execution_count": 6,
   "id": "e2f3da23",
   "metadata": {
    "execution": {
     "iopub.execute_input": "2022-08-14T12:34:01.358265Z",
     "iopub.status.busy": "2022-08-14T12:34:01.357858Z",
     "iopub.status.idle": "2022-08-14T12:34:01.835742Z",
     "shell.execute_reply": "2022-08-14T12:34:01.834526Z"
    },
    "id": "rNPG3PozaHfR",
    "outputId": "d88af85c-97ee-4d58-e086-a98f41d8d952",
    "papermill": {
     "duration": 0.489642,
     "end_time": "2022-08-14T12:34:01.838239",
     "exception": false,
     "start_time": "2022-08-14T12:34:01.348597",
     "status": "completed"
    },
    "tags": []
   },
   "outputs": [
    {
     "data": {
      "image/png": "[encoded data removed]",
      "text/plain": [
       "<Figure size 700x350 with 1 Axes>"
      ]
     },
     "metadata": {
      "needs_background": "light"
     },
     "output_type": "display_data"
    }
   ],
   "source": [
    "plt.figure(dpi=70,figsize=(10,5))\n",
    "sns.barplot(x=df['Masa Kerja'],y=df['Gaji Pokok'], hue=df['Status Karyawan'])\n",
    "sns.lineplot(x=df['Masa Kerja'],y=df['Gaji Pokok'])\n",
    "plt.xlabel(\"Masa Kerja\")\n",
    "plt.ylabel(\"Gaji Pokok\")\n",
    "plt.show()"
   ]
  },
  {
   "cell_type": "code",
   "execution_count": 7,
   "id": "0183d655",
   "metadata": {
    "execution": {
     "iopub.execute_input": "2022-08-14T12:34:01.857782Z",
     "iopub.status.busy": "2022-08-14T12:34:01.856652Z",
     "iopub.status.idle": "2022-08-14T12:34:02.061999Z",
     "shell.execute_reply": "2022-08-14T12:34:02.060916Z"
    },
    "id": "NBiSF9cyeep7",
    "outputId": "915ae043-5c37-4e93-a505-f31f7cdf553e",
    "papermill": {
     "duration": 0.218036,
     "end_time": "2022-08-14T12:34:02.064731",
     "exception": false,
     "start_time": "2022-08-14T12:34:01.846695",
     "status": "completed"
    },
    "tags": []
   },
   "outputs": [
    {
     "data": {
      "image/png": "[encoded data removed]",
      "text/plain": [
       "<Figure size 432x288 with 1 Axes>"
      ]
     },
     "metadata": {
      "needs_background": "light"
     },
     "output_type": "display_data"
    }
   ],
   "source": [
    "plt.plot(df['Masa Kerja'],df['Gaji Pokok'])\n",
    "plt.title(\"Salary of Data Scientists by their experiences\")\n",
    "plt.show()"
   ]
  },
  {
   "cell_type": "code",
   "execution_count": 8,
   "id": "8e32da66",
   "metadata": {
    "execution": {
     "iopub.execute_input": "2022-08-14T12:34:02.084184Z",
     "iopub.status.busy": "2022-08-14T12:34:02.083783Z",
     "iopub.status.idle": "2022-08-14T12:34:02.349213Z",
     "shell.execute_reply": "2022-08-14T12:34:02.347918Z"
    },
    "id": "YmUr7EpOgIjv",
    "outputId": "3399d4ec-8143-4f33-db44-247e75f942ee",
    "papermill": {
     "duration": 0.278252,
     "end_time": "2022-08-14T12:34:02.351887",
     "exception": false,
     "start_time": "2022-08-14T12:34:02.073635",
     "status": "completed"
    },
    "tags": []
   },
   "outputs": [
    {
     "data": {
      "image/png": "[encoded data removed]",
      "text/plain": [
       "<Figure size 360x360 with 1 Axes>"
      ]
     },
     "metadata": {
      "needs_background": "light"
     },
     "output_type": "display_data"
    }
   ],
   "source": [
    "sns.catplot(x=\"Status Karyawan\", y=\"Tot. Gaji\", data=df)\n",
    "\n",
    "plt.show()"
   ]
  },
  {
   "cell_type": "code",
   "execution_count": 9,
   "id": "c98ed976",
   "metadata": {
    "execution": {
     "iopub.execute_input": "2022-08-14T12:34:02.372022Z",
     "iopub.status.busy": "2022-08-14T12:34:02.371618Z",
     "iopub.status.idle": "2022-08-14T12:34:02.378240Z",
     "shell.execute_reply": "2022-08-14T12:34:02.376920Z"
    },
    "id": "3MubnmmDgSWH",
    "papermill": {
     "duration": 0.019704,
     "end_time": "2022-08-14T12:34:02.380783",
     "exception": false,
     "start_time": "2022-08-14T12:34:02.361079",
     "status": "completed"
    },
    "tags": []
   },
   "outputs": [],
   "source": [
    "math = df[['Gaji Pokok', 'Tunj. Jabatan', 'Tunj. Makan', 'Tunj. Kes', 'Tunj. Khusus', 'Tot. Gaji']]"
   ]
  },
  {
   "cell_type": "code",
   "execution_count": 10,
   "id": "85e494dd",
   "metadata": {
    "execution": {
     "iopub.execute_input": "2022-08-14T12:34:02.401698Z",
     "iopub.status.busy": "2022-08-14T12:34:02.401207Z",
     "iopub.status.idle": "2022-08-14T12:34:02.640721Z",
     "shell.execute_reply": "2022-08-14T12:34:02.639418Z"
    },
    "id": "Bc_6KY1ThYZQ",
    "outputId": "9c7bd67c-cdee-4bfb-e9c1-73b545c97ea7",
    "papermill": {
     "duration": 0.253008,
     "end_time": "2022-08-14T12:34:02.643545",
     "exception": false,
     "start_time": "2022-08-14T12:34:02.390537",
     "status": "completed"
    },
    "tags": []
   },
   "outputs": [
    {
     "name": "stderr",
     "output_type": "stream",
     "text": [
      "/opt/conda/lib/python3.7/site-packages/seaborn/distributions.py:2619: FutureWarning: `distplot` is a deprecated function and will be removed in a future version. Please adapt your code to use either `displot` (a figure-level function with similar flexibility) or `histplot` (an axes-level function for histograms).\n",
      "  warnings.warn(msg, FutureWarning)\n"
     ]
    },
    {
     "data": {
      "image/png": "[encoded data removed]",
      "text/plain": [
       "<Figure size 432x288 with 1 Axes>"
      ]
     },
     "metadata": {
      "needs_background": "light"
     },
     "output_type": "display_data"
    }
   ],
   "source": [
    "sns.distplot(a=math,color=\"r\")\n",
    "\n",
    "plt.title(\"Histogram of Math\")\n",
    "plt.show()"
   ]
  },
  {
   "cell_type": "code",
   "execution_count": 11,
   "id": "2885478f",
   "metadata": {
    "execution": {
     "iopub.execute_input": "2022-08-14T12:34:02.664007Z",
     "iopub.status.busy": "2022-08-14T12:34:02.663610Z",
     "iopub.status.idle": "2022-08-14T12:34:02.680054Z",
     "shell.execute_reply": "2022-08-14T12:34:02.678915Z"
    },
    "id": "qJivhI_hg7rb",
    "outputId": "a8d19b00-091b-4959-b154-8af8f7b68fa4",
    "papermill": {
     "duration": 0.029725,
     "end_time": "2022-08-14T12:34:02.682681",
     "exception": false,
     "start_time": "2022-08-14T12:34:02.652956",
     "status": "completed"
    },
    "tags": []
   },
   "outputs": [
    {
     "data": {
      "text/html": [
       "<div>\n",
       "<style scoped>\n",
       "    .dataframe tbody tr th:only-of-type {\n",
       "        vertical-align: middle;\n",
       "    }\n",
       "\n",
       "    .dataframe tbody tr th {\n",
       "        vertical-align: top;\n",
       "    }\n",
       "\n",
       "    .dataframe thead th {\n",
       "        text-align: right;\n",
       "    }\n",
       "</style>\n",
       "<table border=\"1\" class=\"dataframe\">\n",
       "  <thead>\n",
       "    <tr style=\"text-align: right;\">\n",
       "      <th></th>\n",
       "      <th>Kode</th>\n",
       "      <th>Nama Karyawan</th>\n",
       "      <th>Jabatan</th>\n",
       "      <th>Status Karyawan</th>\n",
       "      <th>Mulai Kerja</th>\n",
       "      <th>Masa Kerja</th>\n",
       "      <th>Gaji Pokok</th>\n",
       "      <th>Tunj. Jabatan</th>\n",
       "      <th>Tunj. Makan</th>\n",
       "      <th>Tunj. Anak</th>\n",
       "      <th>Tunj. Kes</th>\n",
       "      <th>Tunj. Khusus</th>\n",
       "      <th>Tot. Gaji</th>\n",
       "      <th>Tot. Gaji Setahun</th>\n",
       "    </tr>\n",
       "  </thead>\n",
       "  <tbody>\n",
       "    <tr>\n",
       "      <th>0</th>\n",
       "      <td>KT-KA0</td>\n",
       "      <td>Kinara Maulidya Ar Rohman</td>\n",
       "      <td>KEPALA KANTOR</td>\n",
       "      <td>TETAP</td>\n",
       "      <td>41640</td>\n",
       "      <td>6</td>\n",
       "      <td>2500000</td>\n",
       "      <td>600000</td>\n",
       "      <td>300000</td>\n",
       "      <td>0</td>\n",
       "      <td>75000</td>\n",
       "      <td>200000</td>\n",
       "      <td>3675000</td>\n",
       "      <td>44100000</td>\n",
       "    </tr>\n",
       "    <tr>\n",
       "      <th>1</th>\n",
       "      <td>KT-TL3</td>\n",
       "      <td>Adelia Jaya Diningrat</td>\n",
       "      <td>TELLER</td>\n",
       "      <td>TETAP</td>\n",
       "      <td>42036</td>\n",
       "      <td>5</td>\n",
       "      <td>1500000</td>\n",
       "      <td>100000</td>\n",
       "      <td>300000</td>\n",
       "      <td>100000</td>\n",
       "      <td>150000</td>\n",
       "      <td>200000</td>\n",
       "      <td>2350000</td>\n",
       "      <td>28200000</td>\n",
       "    </tr>\n",
       "    <tr>\n",
       "      <th>2</th>\n",
       "      <td>KT-IT0</td>\n",
       "      <td>Aldrian At Tafiqur Rohman</td>\n",
       "      <td>INFORMASI TEKNOLOGI</td>\n",
       "      <td>TETAP</td>\n",
       "      <td>42370</td>\n",
       "      <td>4</td>\n",
       "      <td>2100000</td>\n",
       "      <td>400000</td>\n",
       "      <td>300000</td>\n",
       "      <td>0</td>\n",
       "      <td>75000</td>\n",
       "      <td>200000</td>\n",
       "      <td>3075000</td>\n",
       "      <td>36900000</td>\n",
       "    </tr>\n",
       "    <tr>\n",
       "      <th>3</th>\n",
       "      <td>KT-AO1</td>\n",
       "      <td>Andrean At Tafiqur Rohman</td>\n",
       "      <td>ACCOUNTING OFFICER</td>\n",
       "      <td>TETAP</td>\n",
       "      <td>42370</td>\n",
       "      <td>4</td>\n",
       "      <td>2200000</td>\n",
       "      <td>200000</td>\n",
       "      <td>300000</td>\n",
       "      <td>50000</td>\n",
       "      <td>100000</td>\n",
       "      <td>200000</td>\n",
       "      <td>3050000</td>\n",
       "      <td>36600000</td>\n",
       "    </tr>\n",
       "    <tr>\n",
       "      <th>4</th>\n",
       "      <td>KK-SC2</td>\n",
       "      <td>Wawan Agandi</td>\n",
       "      <td>SECURITY</td>\n",
       "      <td>KONTRAK</td>\n",
       "      <td>42627</td>\n",
       "      <td>4</td>\n",
       "      <td>1500000</td>\n",
       "      <td>50000</td>\n",
       "      <td>300000</td>\n",
       "      <td>75000</td>\n",
       "      <td>120000</td>\n",
       "      <td>200000</td>\n",
       "      <td>2245000</td>\n",
       "      <td>26940000</td>\n",
       "    </tr>\n",
       "  </tbody>\n",
       "</table>\n",
       "</div>"
      ],
      "text/plain": [
       "    Kode               Nama Karyawan              Jabatan Status Karyawan  \\\n",
       "0  KT-KA0  Kinara Maulidya Ar Rohman        KEPALA KANTOR           TETAP   \n",
       "1  KT-TL3      Adelia Jaya Diningrat               TELLER           TETAP   \n",
       "2  KT-IT0  Aldrian At Tafiqur Rohman  INFORMASI TEKNOLOGI           TETAP   \n",
       "3  KT-AO1  Andrean At Tafiqur Rohman   ACCOUNTING OFFICER           TETAP   \n",
       "4  KK-SC2              Wawan Agandi              SECURITY         KONTRAK   \n",
       "\n",
       "   Mulai Kerja  Masa Kerja  Gaji Pokok  Tunj. Jabatan  Tunj. Makan  \\\n",
       "0        41640           6     2500000         600000       300000   \n",
       "1        42036           5     1500000         100000       300000   \n",
       "2        42370           4     2100000         400000       300000   \n",
       "3        42370           4     2200000         200000       300000   \n",
       "4        42627           4     1500000          50000       300000   \n",
       "\n",
       "   Tunj. Anak  Tunj. Kes  Tunj. Khusus  Tot. Gaji  Tot. Gaji Setahun  \n",
       "0           0      75000        200000    3675000           44100000  \n",
       "1      100000     150000        200000    2350000           28200000  \n",
       "2           0      75000        200000    3075000           36900000  \n",
       "3       50000     100000        200000    3050000           36600000  \n",
       "4       75000     120000        200000    2245000           26940000  "
      ]
     },
     "execution_count": 11,
     "metadata": {},
     "output_type": "execute_result"
    }
   ],
   "source": [
    "df.head()"
   ]
  },
  {
   "cell_type": "code",
   "execution_count": 12,
   "id": "7f4e68d7",
   "metadata": {
    "execution": {
     "iopub.execute_input": "2022-08-14T12:34:02.704246Z",
     "iopub.status.busy": "2022-08-14T12:34:02.703851Z",
     "iopub.status.idle": "2022-08-14T12:34:02.710734Z",
     "shell.execute_reply": "2022-08-14T12:34:02.709816Z"
    },
    "id": "i-C06_GMhy8j",
    "outputId": "dcb3bb7d-a92b-48e9-a516-c93bce4c07ef",
    "papermill": {
     "duration": 0.020531,
     "end_time": "2022-08-14T12:34:02.712928",
     "exception": false,
     "start_time": "2022-08-14T12:34:02.692397",
     "status": "completed"
    },
    "tags": []
   },
   "outputs": [
    {
     "data": {
      "text/plain": [
       "(13, 14)"
      ]
     },
     "execution_count": 12,
     "metadata": {},
     "output_type": "execute_result"
    }
   ],
   "source": [
    "df.shape"
   ]
  },
  {
   "cell_type": "code",
   "execution_count": 13,
   "id": "eb56d965",
   "metadata": {
    "execution": {
     "iopub.execute_input": "2022-08-14T12:34:02.734668Z",
     "iopub.status.busy": "2022-08-14T12:34:02.734198Z",
     "iopub.status.idle": "2022-08-14T12:34:03.133480Z",
     "shell.execute_reply": "2022-08-14T12:34:03.132609Z"
    },
    "id": "UUGnQzOzh22H",
    "outputId": "6f8b5123-5c31-4973-cf4d-cba2ea1d0cf9",
    "papermill": {
     "duration": 0.412678,
     "end_time": "2022-08-14T12:34:03.135725",
     "exception": false,
     "start_time": "2022-08-14T12:34:02.723047",
     "status": "completed"
    },
    "tags": []
   },
   "outputs": [
    {
     "name": "stderr",
     "output_type": "stream",
     "text": [
      "/opt/conda/lib/python3.7/site-packages/seaborn/_decorators.py:43: FutureWarning: Pass the following variables as keyword args: x, y. From version 0.12, the only valid positional argument will be `data`, and passing other arguments without an explicit keyword will result in an error or misinterpretation.\n",
      "  FutureWarning\n",
      "/opt/conda/lib/python3.7/site-packages/seaborn/_decorators.py:43: FutureWarning: Pass the following variables as keyword args: x, y. From version 0.12, the only valid positional argument will be `data`, and passing other arguments without an explicit keyword will result in an error or misinterpretation.\n",
      "  FutureWarning\n"
     ]
    },
    {
     "data": {
      "image/png": "[encoded data removed]",
      "text/plain": [
       "<Figure size 432x288 with 1 Axes>"
      ]
     },
     "metadata": {
      "needs_background": "light"
     },
     "output_type": "display_data"
    }
   ],
   "source": [
    "sns.lineplot(df['Masa Kerja'],df['Gaji Pokok'])\n",
    "sns.lineplot(df['Masa Kerja'],df['Tunj. Jabatan'])\n",
    "\n",
    "\n",
    "plt.xlabel(\"Masa Kerja\")\n",
    "plt.ylabel(\"Salary\")\n",
    "\n",
    "plt.legend([\"Gaji Pokok\",\"Tunjangan Jabatan\"])\n",
    "\n",
    "plt.show()"
   ]
  },
  {
   "cell_type": "code",
   "execution_count": 14,
   "id": "59dfc7c5",
   "metadata": {
    "execution": {
     "iopub.execute_input": "2022-08-14T12:34:03.157983Z",
     "iopub.status.busy": "2022-08-14T12:34:03.157308Z",
     "iopub.status.idle": "2022-08-14T12:34:03.167748Z",
     "shell.execute_reply": "2022-08-14T12:34:03.166840Z"
    },
    "id": "F9Dq63NKrm6J",
    "outputId": "d3d37480-b001-477c-93b7-e194d0c8b905",
    "papermill": {
     "duration": 0.024141,
     "end_time": "2022-08-14T12:34:03.169976",
     "exception": false,
     "start_time": "2022-08-14T12:34:03.145835",
     "status": "completed"
    },
    "tags": []
   },
   "outputs": [
    {
     "data": {
      "text/html": [
       "<div>\n",
       "<style scoped>\n",
       "    .dataframe tbody tr th:only-of-type {\n",
       "        vertical-align: middle;\n",
       "    }\n",
       "\n",
       "    .dataframe tbody tr th {\n",
       "        vertical-align: top;\n",
       "    }\n",
       "\n",
       "    .dataframe thead th {\n",
       "        text-align: right;\n",
       "    }\n",
       "</style>\n",
       "<table border=\"1\" class=\"dataframe\">\n",
       "  <thead>\n",
       "    <tr style=\"text-align: right;\">\n",
       "      <th></th>\n",
       "      <th>Gaji Pokok</th>\n",
       "      <th>Tunj. Jabatan</th>\n",
       "      <th>Tunj. Makan</th>\n",
       "      <th>Tunj. Kes</th>\n",
       "      <th>Tunj. Khusus</th>\n",
       "      <th>Tot. Gaji</th>\n",
       "    </tr>\n",
       "  </thead>\n",
       "  <tbody>\n",
       "    <tr>\n",
       "      <th>0</th>\n",
       "      <td>2500000</td>\n",
       "      <td>600000</td>\n",
       "      <td>300000</td>\n",
       "      <td>75000</td>\n",
       "      <td>200000</td>\n",
       "      <td>3675000</td>\n",
       "    </tr>\n",
       "    <tr>\n",
       "      <th>1</th>\n",
       "      <td>1500000</td>\n",
       "      <td>100000</td>\n",
       "      <td>300000</td>\n",
       "      <td>150000</td>\n",
       "      <td>200000</td>\n",
       "      <td>2350000</td>\n",
       "    </tr>\n",
       "    <tr>\n",
       "      <th>2</th>\n",
       "      <td>2100000</td>\n",
       "      <td>400000</td>\n",
       "      <td>300000</td>\n",
       "      <td>75000</td>\n",
       "      <td>200000</td>\n",
       "      <td>3075000</td>\n",
       "    </tr>\n",
       "    <tr>\n",
       "      <th>3</th>\n",
       "      <td>2200000</td>\n",
       "      <td>200000</td>\n",
       "      <td>300000</td>\n",
       "      <td>100000</td>\n",
       "      <td>200000</td>\n",
       "      <td>3050000</td>\n",
       "    </tr>\n",
       "    <tr>\n",
       "      <th>4</th>\n",
       "      <td>1500000</td>\n",
       "      <td>50000</td>\n",
       "      <td>300000</td>\n",
       "      <td>120000</td>\n",
       "      <td>200000</td>\n",
       "      <td>2245000</td>\n",
       "    </tr>\n",
       "  </tbody>\n",
       "</table>\n",
       "</div>"
      ],
      "text/plain": [
       "   Gaji Pokok  Tunj. Jabatan  Tunj. Makan  Tunj. Kes  Tunj. Khusus  Tot. Gaji\n",
       "0     2500000         600000       300000      75000        200000    3675000\n",
       "1     1500000         100000       300000     150000        200000    2350000\n",
       "2     2100000         400000       300000      75000        200000    3075000\n",
       "3     2200000         200000       300000     100000        200000    3050000\n",
       "4     1500000          50000       300000     120000        200000    2245000"
      ]
     },
     "execution_count": 14,
     "metadata": {},
     "output_type": "execute_result"
    }
   ],
   "source": [
    "math.head()"
   ]
  },
  {
   "cell_type": "code",
   "execution_count": 15,
   "id": "f848a9cf",
   "metadata": {
    "execution": {
     "iopub.execute_input": "2022-08-14T12:34:03.194513Z",
     "iopub.status.busy": "2022-08-14T12:34:03.193465Z",
     "iopub.status.idle": "2022-08-14T12:34:03.199874Z",
     "shell.execute_reply": "2022-08-14T12:34:03.198635Z"
    },
    "id": "xgRn72EvrylE",
    "papermill": {
     "duration": 0.021349,
     "end_time": "2022-08-14T12:34:03.202484",
     "exception": false,
     "start_time": "2022-08-14T12:34:03.181135",
     "status": "completed"
    },
    "tags": []
   },
   "outputs": [],
   "source": [
    "X = math.drop(['Tot. Gaji'], axis=1)\n",
    "y = math['Tot. Gaji']"
   ]
  },
  {
   "cell_type": "code",
   "execution_count": 16,
   "id": "be557893",
   "metadata": {
    "execution": {
     "iopub.execute_input": "2022-08-14T12:34:03.226465Z",
     "iopub.status.busy": "2022-08-14T12:34:03.225685Z",
     "iopub.status.idle": "2022-08-14T12:34:03.232650Z",
     "shell.execute_reply": "2022-08-14T12:34:03.231739Z"
    },
    "id": "TRsm3xSYsBKE",
    "outputId": "f59efbed-b30e-4693-dea0-1c51af47664e",
    "papermill": {
     "duration": 0.021263,
     "end_time": "2022-08-14T12:34:03.234871",
     "exception": false,
     "start_time": "2022-08-14T12:34:03.213608",
     "status": "completed"
    },
    "tags": []
   },
   "outputs": [
    {
     "data": {
      "text/plain": [
       "0    3675000\n",
       "1    2350000\n",
       "2    3075000\n",
       "3    3050000\n",
       "4    2245000\n",
       "Name: Tot. Gaji, dtype: int64"
      ]
     },
     "execution_count": 16,
     "metadata": {},
     "output_type": "execute_result"
    }
   ],
   "source": [
    "y.head()"
   ]
  },
  {
   "cell_type": "code",
   "execution_count": 17,
   "id": "d13f5e14",
   "metadata": {
    "execution": {
     "iopub.execute_input": "2022-08-14T12:34:03.258304Z",
     "iopub.status.busy": "2022-08-14T12:34:03.257560Z",
     "iopub.status.idle": "2022-08-14T12:34:03.268742Z",
     "shell.execute_reply": "2022-08-14T12:34:03.267640Z"
    },
    "id": "hOUx2bF3sFFg",
    "outputId": "5ef679ce-bd7f-4718-a458-23bfc96c2198",
    "papermill": {
     "duration": 0.025468,
     "end_time": "2022-08-14T12:34:03.271004",
     "exception": false,
     "start_time": "2022-08-14T12:34:03.245536",
     "status": "completed"
    },
    "tags": []
   },
   "outputs": [
    {
     "data": {
      "text/html": [
       "<div>\n",
       "<style scoped>\n",
       "    .dataframe tbody tr th:only-of-type {\n",
       "        vertical-align: middle;\n",
       "    }\n",
       "\n",
       "    .dataframe tbody tr th {\n",
       "        vertical-align: top;\n",
       "    }\n",
       "\n",
       "    .dataframe thead th {\n",
       "        text-align: right;\n",
       "    }\n",
       "</style>\n",
       "<table border=\"1\" class=\"dataframe\">\n",
       "  <thead>\n",
       "    <tr style=\"text-align: right;\">\n",
       "      <th></th>\n",
       "      <th>Gaji Pokok</th>\n",
       "      <th>Tunj. Jabatan</th>\n",
       "      <th>Tunj. Makan</th>\n",
       "      <th>Tunj. Kes</th>\n",
       "      <th>Tunj. Khusus</th>\n",
       "    </tr>\n",
       "  </thead>\n",
       "  <tbody>\n",
       "    <tr>\n",
       "      <th>0</th>\n",
       "      <td>2500000</td>\n",
       "      <td>600000</td>\n",
       "      <td>300000</td>\n",
       "      <td>75000</td>\n",
       "      <td>200000</td>\n",
       "    </tr>\n",
       "    <tr>\n",
       "      <th>1</th>\n",
       "      <td>1500000</td>\n",
       "      <td>100000</td>\n",
       "      <td>300000</td>\n",
       "      <td>150000</td>\n",
       "      <td>200000</td>\n",
       "    </tr>\n",
       "    <tr>\n",
       "      <th>2</th>\n",
       "      <td>2100000</td>\n",
       "      <td>400000</td>\n",
       "      <td>300000</td>\n",
       "      <td>75000</td>\n",
       "      <td>200000</td>\n",
       "    </tr>\n",
       "    <tr>\n",
       "      <th>3</th>\n",
       "      <td>2200000</td>\n",
       "      <td>200000</td>\n",
       "      <td>300000</td>\n",
       "      <td>100000</td>\n",
       "      <td>200000</td>\n",
       "    </tr>\n",
       "    <tr>\n",
       "      <th>4</th>\n",
       "      <td>1500000</td>\n",
       "      <td>50000</td>\n",
       "      <td>300000</td>\n",
       "      <td>120000</td>\n",
       "      <td>200000</td>\n",
       "    </tr>\n",
       "    <tr>\n",
       "      <th>5</th>\n",
       "      <td>1400000</td>\n",
       "      <td>50000</td>\n",
       "      <td>300000</td>\n",
       "      <td>100000</td>\n",
       "      <td>0</td>\n",
       "    </tr>\n",
       "    <tr>\n",
       "      <th>6</th>\n",
       "      <td>1500000</td>\n",
       "      <td>100000</td>\n",
       "      <td>300000</td>\n",
       "      <td>100000</td>\n",
       "      <td>0</td>\n",
       "    </tr>\n",
       "    <tr>\n",
       "      <th>7</th>\n",
       "      <td>1700000</td>\n",
       "      <td>200000</td>\n",
       "      <td>300000</td>\n",
       "      <td>75000</td>\n",
       "      <td>0</td>\n",
       "    </tr>\n",
       "    <tr>\n",
       "      <th>8</th>\n",
       "      <td>1500000</td>\n",
       "      <td>50000</td>\n",
       "      <td>300000</td>\n",
       "      <td>150000</td>\n",
       "      <td>0</td>\n",
       "    </tr>\n",
       "    <tr>\n",
       "      <th>9</th>\n",
       "      <td>2200000</td>\n",
       "      <td>200000</td>\n",
       "      <td>300000</td>\n",
       "      <td>75000</td>\n",
       "      <td>0</td>\n",
       "    </tr>\n",
       "    <tr>\n",
       "      <th>10</th>\n",
       "      <td>1500000</td>\n",
       "      <td>200000</td>\n",
       "      <td>300000</td>\n",
       "      <td>120000</td>\n",
       "      <td>0</td>\n",
       "    </tr>\n",
       "    <tr>\n",
       "      <th>11</th>\n",
       "      <td>1500000</td>\n",
       "      <td>200000</td>\n",
       "      <td>300000</td>\n",
       "      <td>75000</td>\n",
       "      <td>0</td>\n",
       "    </tr>\n",
       "    <tr>\n",
       "      <th>12</th>\n",
       "      <td>1500000</td>\n",
       "      <td>100000</td>\n",
       "      <td>300000</td>\n",
       "      <td>120000</td>\n",
       "      <td>0</td>\n",
       "    </tr>\n",
       "  </tbody>\n",
       "</table>\n",
       "</div>"
      ],
      "text/plain": [
       "    Gaji Pokok  Tunj. Jabatan  Tunj. Makan  Tunj. Kes  Tunj. Khusus\n",
       "0      2500000         600000       300000      75000        200000\n",
       "1      1500000         100000       300000     150000        200000\n",
       "2      2100000         400000       300000      75000        200000\n",
       "3      2200000         200000       300000     100000        200000\n",
       "4      1500000          50000       300000     120000        200000\n",
       "5      1400000          50000       300000     100000             0\n",
       "6      1500000         100000       300000     100000             0\n",
       "7      1700000         200000       300000      75000             0\n",
       "8      1500000          50000       300000     150000             0\n",
       "9      2200000         200000       300000      75000             0\n",
       "10     1500000         200000       300000     120000             0\n",
       "11     1500000         200000       300000      75000             0\n",
       "12     1500000         100000       300000     120000             0"
      ]
     },
     "execution_count": 17,
     "metadata": {},
     "output_type": "execute_result"
    }
   ],
   "source": [
    "X.reset_index(drop=True)"
   ]
  },
  {
   "cell_type": "code",
   "execution_count": 18,
   "id": "20358537",
   "metadata": {
    "execution": {
     "iopub.execute_input": "2022-08-14T12:34:03.295150Z",
     "iopub.status.busy": "2022-08-14T12:34:03.294395Z",
     "iopub.status.idle": "2022-08-14T12:34:03.509940Z",
     "shell.execute_reply": "2022-08-14T12:34:03.508833Z"
    },
    "id": "UV8A0RB4saVF",
    "papermill": {
     "duration": 0.230838,
     "end_time": "2022-08-14T12:34:03.512752",
     "exception": false,
     "start_time": "2022-08-14T12:34:03.281914",
     "status": "completed"
    },
    "tags": []
   },
   "outputs": [],
   "source": [
    "from sklearn.model_selection import train_test_split\n",
    "X_train,X_test,y_train,y_test = train_test_split(X,y,train_size=0.7,random_state=100)"
   ]
  },
  {
   "cell_type": "code",
   "execution_count": 19,
   "id": "0167ebae",
   "metadata": {
    "execution": {
     "iopub.execute_input": "2022-08-14T12:34:03.537144Z",
     "iopub.status.busy": "2022-08-14T12:34:03.536362Z",
     "iopub.status.idle": "2022-08-14T12:34:03.644459Z",
     "shell.execute_reply": "2022-08-14T12:34:03.643203Z"
    },
    "id": "iDJV2tKfsf1q",
    "outputId": "2a253696-1c6d-48df-b8f8-dbc0a5d265a9",
    "papermill": {
     "duration": 0.123463,
     "end_time": "2022-08-14T12:34:03.647179",
     "exception": false,
     "start_time": "2022-08-14T12:34:03.523716",
     "status": "completed"
    },
    "tags": []
   },
   "outputs": [
    {
     "data": {
      "text/plain": [
       "LinearRegression()"
      ]
     },
     "execution_count": 19,
     "metadata": {},
     "output_type": "execute_result"
    }
   ],
   "source": [
    "from sklearn.linear_model import LinearRegression\n",
    "\n",
    "lr = LinearRegression()\n",
    "lr.fit(X_train,y_train)"
   ]
  },
  {
   "cell_type": "code",
   "execution_count": 20,
   "id": "38021be5",
   "metadata": {
    "execution": {
     "iopub.execute_input": "2022-08-14T12:34:03.671647Z",
     "iopub.status.busy": "2022-08-14T12:34:03.670785Z",
     "iopub.status.idle": "2022-08-14T12:34:03.679068Z",
     "shell.execute_reply": "2022-08-14T12:34:03.678236Z"
    },
    "id": "ne4v_lAbsh52",
    "papermill": {
     "duration": 0.023425,
     "end_time": "2022-08-14T12:34:03.681489",
     "exception": false,
     "start_time": "2022-08-14T12:34:03.658064",
     "status": "completed"
    },
    "tags": []
   },
   "outputs": [],
   "source": [
    "y_pred = lr.predict(X_test)"
   ]
  },
  {
   "cell_type": "code",
   "execution_count": 21,
   "id": "2f988835",
   "metadata": {
    "execution": {
     "iopub.execute_input": "2022-08-14T12:34:03.705513Z",
     "iopub.status.busy": "2022-08-14T12:34:03.704542Z",
     "iopub.status.idle": "2022-08-14T12:34:03.907384Z",
     "shell.execute_reply": "2022-08-14T12:34:03.906121Z"
    },
    "id": "JBsABvjisj7s",
    "outputId": "ef55d811-f100-41b6-d1b1-1862b3c84272",
    "papermill": {
     "duration": 0.217669,
     "end_time": "2022-08-14T12:34:03.910112",
     "exception": false,
     "start_time": "2022-08-14T12:34:03.692443",
     "status": "completed"
    },
    "tags": []
   },
   "outputs": [
    {
     "data": {
      "image/png": "[encoded data removed]",
      "text/plain": [
       "<Figure size 432x288 with 1 Axes>"
      ]
     },
     "metadata": {
      "needs_background": "light"
     },
     "output_type": "display_data"
    }
   ],
   "source": [
    "c = [i for i in range (1,len(y_test)+1,1)]\n",
    "plt.plot(c,y_test,color='g',linestyle='-')\n",
    "plt.plot(c,y_pred,color='b',linestyle='-')\n",
    "plt.xlabel('Fiture')\n",
    "plt.ylabel('Price')\n",
    "plt.title('Prediction')\n",
    "plt.show()"
   ]
  },
  {
   "cell_type": "code",
   "execution_count": 22,
   "id": "188a86b7",
   "metadata": {
    "execution": {
     "iopub.execute_input": "2022-08-14T12:34:03.934861Z",
     "iopub.status.busy": "2022-08-14T12:34:03.934473Z",
     "iopub.status.idle": "2022-08-14T12:34:04.146365Z",
     "shell.execute_reply": "2022-08-14T12:34:04.145434Z"
    },
    "id": "9gj5Gi2SsqWm",
    "outputId": "134378db-9c3b-44bd-f637-0aa2a850ee2e",
    "papermill": {
     "duration": 0.227009,
     "end_time": "2022-08-14T12:34:04.148715",
     "exception": false,
     "start_time": "2022-08-14T12:34:03.921706",
     "status": "completed"
    },
    "tags": []
   },
   "outputs": [
    {
     "data": {
      "image/png": "[encoded data removed]",
      "text/plain": [
       "<Figure size 864x432 with 1 Axes>"
      ]
     },
     "metadata": {
      "needs_background": "light"
     },
     "output_type": "display_data"
    }
   ],
   "source": [
    "plt.figure(figsize=(12,6))\n",
    "plt.scatter(y_test,y_pred,color='y',linestyle='-')\n",
    "plt.show()"
   ]
  },
  {
   "cell_type": "code",
   "execution_count": 23,
   "id": "749f1ace",
   "metadata": {
    "execution": {
     "iopub.execute_input": "2022-08-14T12:34:04.173998Z",
     "iopub.status.busy": "2022-08-14T12:34:04.172869Z",
     "iopub.status.idle": "2022-08-14T12:34:04.179350Z",
     "shell.execute_reply": "2022-08-14T12:34:04.177950Z"
    },
    "id": "lis4rAnxsxeo",
    "outputId": "52e83fb0-1e30-4a54-f622-e3c8af0b7408",
    "papermill": {
     "duration": 0.021931,
     "end_time": "2022-08-14T12:34:04.181935",
     "exception": false,
     "start_time": "2022-08-14T12:34:04.160004",
     "status": "completed"
    },
    "tags": []
   },
   "outputs": [
    {
     "name": "stdout",
     "output_type": "stream",
     "text": [
      "Intercept of the model: 202160.09070750745\n",
      "Coefficient of the line: [1.00318731e+00 9.62194285e-01 8.88178420e-16 2.34501096e+00\n",
      " 1.04938506e+00]\n"
     ]
    }
   ],
   "source": [
    "print('Intercept of the model:',lr.intercept_)\n",
    "print('Coefficient of the line:',lr.coef_)"
   ]
  },
  {
   "cell_type": "code",
   "execution_count": 24,
   "id": "5224fa2f",
   "metadata": {
    "execution": {
     "iopub.execute_input": "2022-08-14T12:34:04.207127Z",
     "iopub.status.busy": "2022-08-14T12:34:04.206730Z",
     "iopub.status.idle": "2022-08-14T12:34:04.211855Z",
     "shell.execute_reply": "2022-08-14T12:34:04.210644Z"
    },
    "id": "J3hbFf6yu5Cv",
    "papermill": {
     "duration": 0.020185,
     "end_time": "2022-08-14T12:34:04.214007",
     "exception": false,
     "start_time": "2022-08-14T12:34:04.193822",
     "status": "completed"
    },
    "tags": []
   },
   "outputs": [],
   "source": [
    "from sklearn.metrics import mean_squared_error\n",
    "from sklearn.metrics import r2_score"
   ]
  },
  {
   "cell_type": "code",
   "execution_count": 25,
   "id": "d35ea677",
   "metadata": {
    "execution": {
     "iopub.execute_input": "2022-08-14T12:34:04.239464Z",
     "iopub.status.busy": "2022-08-14T12:34:04.238595Z",
     "iopub.status.idle": "2022-08-14T12:34:04.246066Z",
     "shell.execute_reply": "2022-08-14T12:34:04.245118Z"
    },
    "id": "Z-_DJeQLu8bN",
    "outputId": "d9d3d651-2ea6-479b-b0ba-a6694d0ec63b",
    "papermill": {
     "duration": 0.022757,
     "end_time": "2022-08-14T12:34:04.248379",
     "exception": false,
     "start_time": "2022-08-14T12:34:04.225622",
     "status": "completed"
    },
    "tags": []
   },
   "outputs": [
    {
     "data": {
      "text/plain": [
       "13124.920173129196"
      ]
     },
     "execution_count": 25,
     "metadata": {},
     "output_type": "execute_result"
    }
   ],
   "source": [
    "np.sqrt(mean_squared_error(y_test, y_pred))"
   ]
  },
  {
   "cell_type": "code",
   "execution_count": 26,
   "id": "22af4fcc",
   "metadata": {
    "execution": {
     "iopub.execute_input": "2022-08-14T12:34:04.273496Z",
     "iopub.status.busy": "2022-08-14T12:34:04.273034Z",
     "iopub.status.idle": "2022-08-14T12:34:04.280064Z",
     "shell.execute_reply": "2022-08-14T12:34:04.279263Z"
    },
    "id": "CIWAWGYYu_db",
    "outputId": "a39611d2-b6b4-4391-f429-a126e7ebeb34",
    "papermill": {
     "duration": 0.022295,
     "end_time": "2022-08-14T12:34:04.282312",
     "exception": false,
     "start_time": "2022-08-14T12:34:04.260017",
     "status": "completed"
    },
    "tags": []
   },
   "outputs": [
    {
     "data": {
      "text/plain": [
       "0.9938350020179696"
      ]
     },
     "execution_count": 26,
     "metadata": {},
     "output_type": "execute_result"
    }
   ],
   "source": [
    "r_squared = r2_score(y_test, y_pred)\n",
    "r_squared"
   ]
  },
  {
   "cell_type": "code",
   "execution_count": 27,
   "id": "60b61783",
   "metadata": {
    "execution": {
     "iopub.execute_input": "2022-08-14T12:34:04.307587Z",
     "iopub.status.busy": "2022-08-14T12:34:04.307147Z",
     "iopub.status.idle": "2022-08-14T12:34:04.505363Z",
     "shell.execute_reply": "2022-08-14T12:34:04.504092Z"
    },
    "id": "kbFnOBdzPXP1",
    "outputId": "526aac5c-7a3e-4e15-f3bc-7969b7f56d55",
    "papermill": {
     "duration": 0.214215,
     "end_time": "2022-08-14T12:34:04.508211",
     "exception": false,
     "start_time": "2022-08-14T12:34:04.293996",
     "status": "completed"
    },
    "tags": []
   },
   "outputs": [
    {
     "data": {
      "text/plain": [
       "Text(0.5, 0, 'Y test')"
      ]
     },
     "execution_count": 27,
     "metadata": {},
     "output_type": "execute_result"
    },
    {
     "data": {
      "image/png": "[encoded data removed]",
      "text/plain": [
       "<Figure size 432x288 with 1 Axes>"
      ]
     },
     "metadata": {
      "needs_background": "light"
     },
     "output_type": "display_data"
    }
   ],
   "source": [
    "plt.scatter(y_test, y_pred)\n",
    "plt.ylabel('Predicted')\n",
    "plt.xlabel('Y test')"
   ]
  },
  {
   "cell_type": "code",
   "execution_count": 28,
   "id": "fcda649f",
   "metadata": {
    "execution": {
     "iopub.execute_input": "2022-08-14T12:34:04.535068Z",
     "iopub.status.busy": "2022-08-14T12:34:04.534625Z",
     "iopub.status.idle": "2022-08-14T12:34:04.543659Z",
     "shell.execute_reply": "2022-08-14T12:34:04.542418Z"
    },
    "id": "nmN5EWcHQt67",
    "outputId": "5c71f5e8-26d8-4ba4-92b4-82c087df9170",
    "papermill": {
     "duration": 0.024824,
     "end_time": "2022-08-14T12:34:04.545686",
     "exception": false,
     "start_time": "2022-08-14T12:34:04.520862",
     "status": "completed"
    },
    "tags": []
   },
   "outputs": [
    {
     "name": "stdout",
     "output_type": "stream",
     "text": [
      "MAE: 13028.299076684983\n",
      "MSE: 172263529.55101374\n",
      "RMSE: 13124.920173129196\n"
     ]
    }
   ],
   "source": [
    "import sklearn.metrics as metrics\n",
    "print('MAE: {}'.format(metrics.mean_absolute_error(y_test, y_pred)))\n",
    "print('MSE: {}'.format(metrics.mean_squared_error(y_test, y_pred)))\n",
    "print('RMSE: {}'.format(np.sqrt(metrics.mean_squared_error(y_test, y_pred))))"
   ]
  }
 ],
 "metadata": {
  "kernelspec": {
   "display_name": "Python 3",
   "language": "python",
   "name": "python3"
  },
  "language_info": {
   "codemirror_mode": {
    "name": "ipython",
    "version": 3
   },
   "file_extension": ".py",
   "mimetype": "text/x-python",
   "name": "python",
   "nbconvert_exporter": "python",
   "pygments_lexer": "ipython3",
   "version": "3.7.12"
  },
  "papermill": {
   "default_parameters": {},
   "duration": 15.017921,
   "end_time": "2022-08-14T12:34:05.380182",
   "environment_variables": {},
   "exception": null,
   "input_path": "__notebook__.ipynb",
   "output_path": "__notebook__.ipynb",
   "parameters": {},
   "start_time": "2022-08-14T12:33:50.362261",
   "version": "2.3.4"
  }
 },
 "nbformat": 4,
 "nbformat_minor": 5
}
